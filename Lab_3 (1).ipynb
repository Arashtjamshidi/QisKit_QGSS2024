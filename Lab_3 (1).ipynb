{
 "cells": [
  {
   "cell_type": "code",
   "execution_count": 12,
   "id": "a2947d69-f82c-426d-8e1c-1b18b9e83c5d",
   "metadata": {
    "tags": []
   },
   "outputs": [
    {
     "name": "stdout",
     "output_type": "stream",
     "text": [
      "env: QXToken=5f375a49c4b5eb4c003b2bc33a2e96b3b4acb5acc84a44a21e8b793c87402bf1e900c28b4a09b084434b58633ebc764b020c7d2759699cd41242af3a8c8e313c\n"
     ]
    }
   ],
   "source": [
    "### Save API Token, if needed\n",
    "%set_env QXToken=5f375a49c4b5eb4c003b2bc33a2e96b3b4acb5acc84a44a21e8b793c87402bf1e900c28b4a09b084434b58633ebc764b020c7d2759699cd41242af3a8c8e313c\n"
   ]
  },
  {
   "cell_type": "code",
   "execution_count": 13,
   "id": "cbc8d931-65ab-4f1c-bada-7df88c39511c",
   "metadata": {
    "tags": []
   },
   "outputs": [],
   "source": [
    "# import of required libraries and modules\n",
    "from qc_grader.challenges.qgss_2024 import *\n",
    "\n",
    "from math import pi\n",
    "from qiskit.circuit.library import QFT\n",
    "from qiskit.providers.fake_provider import GenericBackendV2, generic_backend_v2\n",
    "generic_backend_v2._NOISE_DEFAULTS[\"cx\"] = (5.99988e-06, 6.99988e-06, 1e-5, 5e-3)\n",
    "\n",
    "from qiskit import transpile, QuantumCircuit\n",
    "from qiskit.circuit import Gate\n",
    "from qiskit.converters import circuit_to_dag\n",
    "from qiskit.transpiler import CouplingMap, StagedPassManager, PassManager, AnalysisPass, TransformationPass\n",
    "from qiskit.transpiler.preset_passmanagers import generate_preset_pass_manager\n",
    "from qiskit.transpiler.preset_passmanagers.common import generate_unroll_3q, generate_embed_passmanager\n",
    "from qiskit.quantum_info import hellinger_fidelity\n",
    "from qiskit.providers.basic_provider import BasicSimulator\n",
    "from qiskit.dagcircuit import DAGCircuit\n",
    "from qiskit_ibm_runtime.fake_provider import FakeTorino\n",
    "\n",
    "# Transpiler Passes\n",
    "## Layout passes\n",
    "from qiskit.transpiler.passes.layout.csp_layout import CSPLayout\n",
    "from qiskit.transpiler.passes.layout.dense_layout import DenseLayout\n",
    "from qiskit.transpiler.passes.layout.sabre_layout import SabreLayout\n",
    "from qiskit.transpiler.passes.layout.vf2_layout import VF2Layout\n",
    "from qiskit.transpiler.passes.layout.trivial_layout import TrivialLayout\n",
    "\n",
    "## Routing passes\n",
    "from qiskit.transpiler.passes.routing.basic_swap import BasicSwap\n",
    "from qiskit.transpiler.passes.routing.lookahead_swap import LookaheadSwap\n",
    "from qiskit.transpiler.passes.routing.sabre_swap import SabreSwap\n",
    "from qiskit.transpiler.passes.routing.stochastic_swap import StochasticSwap\n",
    "from qiskit.transpiler.passes.routing.star_prerouting import StarPreRouting\n",
    "\n",
    "## Synthesis passes (passes for the translation stage)\n",
    "from qiskit.circuit import SessionEquivalenceLibrary\n",
    "from qiskit.circuit.equivalence_library import SessionEquivalenceLibrary\n",
    "from qiskit.transpiler.passes.basis.basis_translator import BasisTranslator\n",
    "from qiskit.transpiler.passes.synthesis.high_level_synthesis import HighLevelSynthesis\n",
    "### The next pass could also be considered an optimization pass.\n",
    "from qiskit.transpiler.passes.synthesis.unitary_synthesis import UnitarySynthesis\n",
    "\n",
    "## Optimization passes\n",
    "from qiskit.transpiler.passes.optimization.collect_1q_runs import Collect1qRuns\n",
    "from qiskit.transpiler.passes.optimization.collect_2q_blocks import Collect2qBlocks\n",
    "from qiskit.transpiler.passes.optimization.consolidate_blocks import ConsolidateBlocks\n",
    "from qiskit.transpiler.passes.optimization.commutative_cancellation import CommutativeCancellation"
   ]
  },
  {
   "cell_type": "code",
   "execution_count": 14,
   "id": "623492c5-4c24-47eb-bfce-6b9cac81ee88",
   "metadata": {
    "tags": []
   },
   "outputs": [],
   "source": [
    "from qiskit.circuit.library import EfficientSU2\n",
    "\n",
    "num_qubits = 50\n",
    "reps = 2\n",
    "abstract_circuit = EfficientSU2(num_qubits, reps=reps, entanglement=\"pairwise\")"
   ]
  },
  {
   "cell_type": "code",
   "execution_count": 15,
   "id": "404927d3-00a6-4aad-b890-ce62dc7d3a68",
   "metadata": {
    "tags": []
   },
   "outputs": [],
   "source": [
    "import numpy as np\n",
    "\n",
    "num_parameters = abstract_circuit.num_parameters\n",
    "param_values = np.random.uniform(-np.pi, np.pi, size=num_parameters)\n",
    "\n",
    "abstract_circuit.assign_parameters(param_values, inplace=True)"
   ]
  },
  {
   "cell_type": "code",
   "execution_count": 16,
   "id": "9d2bc570-7311-4fb8-9225-190372712e0c",
   "metadata": {
    "tags": []
   },
   "outputs": [],
   "source": [
    "from qiskit.circuit.library import UnitaryOverlap\n",
    "\n",
    "abstract_circuit.barrier()\n",
    "abstract_circuit = UnitaryOverlap(abstract_circuit, abstract_circuit)"
   ]
  },
  {
   "cell_type": "code",
   "execution_count": 17,
   "id": "164a03c3-a0d6-4750-aba6-24fdb345fcb5",
   "metadata": {
    "tags": []
   },
   "outputs": [],
   "source": [
    "from qiskit.quantum_info import SparsePauliOp\n",
    "\n",
    "paulis = [\"\".join(\"Z\" if i == q else \"I\" for i in range(num_qubits)) for q in range(num_qubits)]\n",
    "abstract_observables = [SparsePauliOp(pauli) for pauli in paulis]"
   ]
  },
  {
   "cell_type": "code",
   "execution_count": 18,
   "id": "8fa7788f-9c82-4326-86ac-d885adee4bb1",
   "metadata": {
    "tags": []
   },
   "outputs": [
    {
     "data": {
      "text/plain": [
       "'ibm_brisbane'"
      ]
     },
     "execution_count": 18,
     "metadata": {},
     "output_type": "execute_result"
    }
   ],
   "source": [
    "from qiskit_ibm_runtime import QiskitRuntimeService\n",
    "\n",
    "service = QiskitRuntimeService()\n",
    "backend = service.least_busy(min_num_qubits=127)\n",
    "backend.name"
   ]
  },
  {
   "cell_type": "code",
   "execution_count": 19,
   "id": "64765261-ab3b-45a1-9297-410c34dafbe7",
   "metadata": {
    "tags": []
   },
   "outputs": [],
   "source": [
    "from qiskit.transpiler.preset_passmanagers import generate_preset_pass_manager\n",
    "\n",
    "pm = generate_preset_pass_manager(backend=backend, optimization_level=3)\n",
    "target_circuit = pm.run(abstract_circuit)"
   ]
  },
  {
   "cell_type": "code",
   "execution_count": 20,
   "id": "63901062-1e47-4baa-9122-c1c0e617ce39",
   "metadata": {
    "tags": []
   },
   "outputs": [],
   "source": [
    "layout = target_circuit.layout\n",
    "target_observables = [abs_obs.apply_layout(layout=layout) for abs_obs in abstract_observables]"
   ]
  },
  {
   "cell_type": "code",
   "execution_count": 21,
   "id": "a826d98f-18f9-409e-b4b0-3e55e2ffc1ea",
   "metadata": {
    "tags": []
   },
   "outputs": [],
   "source": [
    "from qiskit_ibm_runtime import EstimatorV2 as Estimator, EstimatorOptions, Batch\n",
    "\n",
    "# Define the primitive unified bloc (PUB) for Estimator jobs\n",
    "# More on PUB: https://docs.quantum.ibm.com/api/qiskit/primitives\n",
    "pub = (target_circuit, target_observables)\n",
    "default_shots = 10_000\n",
    "\n",
    "# list for saving job results\n",
    "primitive_results = []"
   ]
  },
  {
   "cell_type": "code",
   "execution_count": null,
   "id": "f3fa8385-efb1-4881-9552-e2f0981ab480",
   "metadata": {
    "tags": []
   },
   "outputs": [],
   "source": [
    "# Submit Exercise 1 to 3 inside a Batch execution mode\n",
    "with Batch(backend=backend) as batch:\n",
    "    # Excercise-1: No mitigation (worked out for you)\n",
    "    ## https://docs.quantum.ibm.com/run/configure-error-mitigation#turn-off-all-error-mitigation-and-error-suppression\n",
    "    options_ex1 = EstimatorOptions() # some suppression and mitigation are enabled by default\n",
    "    options_ex1.optimization_level = 0\n",
    "    options_ex1.resilience_level = 0\n",
    "    options_ex1.default_shots = default_shots\n",
    "    \n",
    "    # Instantiate `Estimator` with options\n",
    "    estimator = Estimator(options=options_ex1)\n",
    "    # Submit job\n",
    "    job_ex1 = estimator.run(pubs=[pub])\n",
    "\n",
    "    \n",
    "    # Excercise-2: Dynamical Decoupling (DD)\n",
    "    from qiskit_ibm_runtime import SamplerOptions, EstimatorOptions\n",
    "    options_ex2 = EstimatorOptions(optimization_level=0, resilience_level=0)\n",
    "    options_ex2.default_shots = default_shots\n",
    "    options_ex2.dynamical_decoupling.enable = True\n",
    "    options_ex2.dynamical_decoupling.sequence_type = 'XX'\n",
    "    options_ex2.dynamical_decoupling.extra_slack_distribution = 'middle'\n",
    "    options_ex2.dynamical_decoupling.scheduling_method = 'alap'\n",
    "\n",
    "    \n",
    "    estimator = Estimator(options=options_ex2)\n",
    "    job_ex2 = estimator.run(pubs=[pub])\n",
    "\n",
    "    \n",
    "    # Excercise-3: Measurement mitigation (TREX)\n",
    "    from qiskit_ibm_runtime import EstimatorOptions\n",
    "    options_ex3 = EstimatorOptions(optimization_level=0, resilience_level=0)\n",
    "    options_ex3.default_shots = default_shots\n",
    "    options_ex3.resilience.measure_mitigation = True \n",
    "    options_ex3.resilience.measure_noise_learning.num_randomizations = 32\n",
    "    options_ex3.resilience.measure_noise_learning.shots_per_randomization = 'auto'\n",
    "    options_ex3.twirling.enable_measure = True\n",
    "\n",
    "    \n",
    "    estimator = Estimator(options=options_ex3)\n",
    "    job_ex3 = estimator.run(pubs=[pub])\n",
    "\n",
    "# Wait for first 3 jobs to complete. Fetch results when done\n",
    "primitive_results.append(job_ex1.result())\n",
    "primitive_results.append(job_ex2.result())\n",
    "primitive_results.append(job_ex3.result())"
   ]
  },
  {
   "cell_type": "code",
   "execution_count": null,
   "id": "badc18cd-956a-4f49-9802-8ff7263b5b17",
   "metadata": {},
   "outputs": [],
   "source": [
    "# Submit Exercise 4a, 4b, and 5 inside another Batch execution mode\n",
    "with Batch(backend=backend) as batch:\n",
    "    # Excercise-4a: Zero Noise Extrapolation (extrapolator=\"exponential\" | noise_factors=(1, 3, 5))\n",
    "    from qiskit_ibm_runtime import SamplerOptions, EstimatorOptions\n",
    "    options_ex4a = EstimatorOptions(optimization_level=0, resilience_level=0)\n",
    "    options_ex4a.default_shots = default_shots\n",
    "    options_ex4a.resilience.zne_mitigation = True\n",
    "    options_ex4a.resilience.zne.noise_factors = (1,3,5)\n",
    "    options_ex4a.resilience.zne.extrapolator = ('exponential')\n",
    "\n",
    "    estimator = Estimator(options=options_ex4a)\n",
    "    job_ex4a = estimator.run(pubs=[pub])\n",
    "\n",
    "    \n",
    "    # Excercise-4b: Zero Noise Extrapolation (use: extrapolator=\"linear\" and noise_factors=(1, 3, 5))\n",
    "    options_ex4b = EstimatorOptions()\n",
    "\n",
    "    options_ex4b = EstimatorOptions(optimization_level=0, resilience_level=0)\n",
    "    options_ex4b.default_shots = default_shots\n",
    "    options_ex4b.resilience.zne_mitigation = True\n",
    "    options_ex4b.resilience.zne.noise_factors = (1,3,5)\n",
    "    options_ex4b.resilience.zne.extrapolator = ('linear')\n",
    "    \n",
    "    estimator = Estimator(options=options_ex4b)\n",
    "    job_ex4b = estimator.run(pubs=[pub])\n",
    "\n",
    "    \n",
    "    # Excercise-5: Gate Twirling + Zero Noise Extrapolation (use: extrapolator=(\"exponential\", \"linear\") and noise_factors=(1, 3, 5))\n",
    "\n",
    "    options_ex5 = EstimatorOptions(optimization_level=0, resilience_level=0)\n",
    "    \n",
    "    options_ex5.default_shots = default_shots\n",
    "    \n",
    "    options_ex5.twirling.enable_gates = True\n",
    "    options_ex5.twirling.enable_measure = False\n",
    "    options_ex5.twirling.num_randomizations = 'auto'\n",
    "    options_ex5.twirling.shots_per_randomization = 'auto'\n",
    "    options_ex5.twirling.strategy = 'active-accum'\n",
    "    \n",
    "    \n",
    "    options_ex5.resilience.zne_mitigation = True\n",
    "    options_ex5.resilience.zne.noise_factors = (1,3,5)\n",
    "    options_ex5.resilience.zne.extrapolator = ('exponential' ,'linear')\n",
    "    \n",
    "    \n",
    "    estimator = Estimator(options=options_ex5)\n",
    "    job_ex5 = estimator.run(pubs=[pub])\n",
    "\n",
    "# Wait for next 3 jobs to complete. Fetch results when done\n",
    "primitive_results.append(job_ex4a.result())\n",
    "primitive_results.append(job_ex4b.result())\n",
    "primitive_results.append(job_ex5.result())"
   ]
  },
  {
   "cell_type": "code",
   "execution_count": 22,
   "id": "5d27db7c-1cb4-42c3-9a0e-c9a258ef1ec0",
   "metadata": {},
   "outputs": [],
   "source": [
    "# Submit Exercise 6 in Job execution mode as it is a single job\n",
    "# Excercise-6: All\n",
    "from qiskit_ibm_runtime import QiskitRuntimeService\n",
    "\n",
    "options_ex6 = EstimatorOptions(optimization_level=0, resilience_level=0)\n",
    "\n",
    "options_ex6.default_shots = default_shots\n",
    "\n",
    "options_ex6.dynamical_decoupling.enable = True\n",
    "options_ex6.dynamical_decoupling.sequence_type = 'XX'\n",
    "options_ex6.dynamical_decoupling.extra_slack_distribution = 'middle'\n",
    "options_ex6.dynamical_decoupling.scheduling_method = 'alap'\n",
    "\n",
    "options_ex6.twirling.enable_gates = True\n",
    "options_ex6.twirling.enable_measure = True\n",
    "options_ex6.twirling.num_randomizations = 'auto'\n",
    "options_ex6.twirling.shots_per_randomization = 'auto'\n",
    "options_ex6.twirling.strategy = 'active-accum'\n",
    "\n",
    "options_ex6.resilience.measure_mitigation = True \n",
    "options_ex6.resilience.measure_noise_learning.num_randomizations = 32\n",
    "options_ex6.resilience.measure_noise_learning.shots_per_randomization = 'auto'\n",
    "\n",
    "options_ex6.resilience.zne_mitigation = True\n",
    "options_ex6.resilience.zne.noise_factors = (1,3,5)\n",
    "options_ex6.resilience.zne.extrapolator = ('exponential' ,'linear')    \n",
    "\n",
    "\n",
    "# Note: explicitly set `mode=backend` in Job execution mode.\n",
    "# Inside Batch context manager, `Estimator` knows the context/backend implicitly\n",
    "# However, without the context manager, we must set `mode` explicitly\n",
    "estimator = Estimator(mode=backend, options=options_ex6)\n",
    "job_ex6 = estimator.run(pubs=[pub])\n",
    "primitive_results.append(job_ex6.result())"
   ]
  },
  {
   "cell_type": "code",
   "execution_count": null,
   "id": "98f95bb2-187f-47f0-b6ea-da06039f6a61",
   "metadata": {},
   "outputs": [],
   "source": [
    "primitive_results"
   ]
  },
  {
   "cell_type": "code",
   "execution_count": null,
   "id": "a6bd37d9-ab90-4a9b-8eb4-f3e079733f89",
   "metadata": {},
   "outputs": [],
   "source": []
  }
 ],
 "metadata": {
  "kernelspec": {
   "display_name": "Python 3 [Default]",
   "language": "python",
   "name": "python3"
  },
  "language_info": {
   "codemirror_mode": {
    "name": "ipython",
    "version": 3
   },
   "file_extension": ".py",
   "mimetype": "text/x-python",
   "name": "python",
   "nbconvert_exporter": "python",
   "pygments_lexer": "ipython3",
   "version": "3.11.9"
  }
 },
 "nbformat": 4,
 "nbformat_minor": 5
}
